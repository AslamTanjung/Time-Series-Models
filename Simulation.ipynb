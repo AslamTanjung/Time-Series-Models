{
 "cells": [
  {
   "cell_type": "code",
   "execution_count": 2,
   "metadata": {},
   "outputs": [
    {
     "name": "stderr",
     "output_type": "stream",
     "text": [
      "c:\\Users\\aslam\\anaconda3\\lib\\importlib\\_bootstrap.py:219: RuntimeWarning: numpy.ufunc size changed, may indicate binary incompatibility. Expected 192 from C header, got 216 from PyObject\n",
      "  return f(*args, **kwds)\n"
     ]
    }
   ],
   "source": [
    "import pandas as pd\n",
    "import numpy as np\n",
    "import matplotlib.pyplot as plt\n",
    "import scipy.stats as st"
   ]
  },
  {
   "cell_type": "code",
   "execution_count": 11,
   "metadata": {},
   "outputs": [],
   "source": [
    "N = 100\n",
    "a_ini = 0\n",
    "P_ini = 10**7\n",
    "sig_e = 15099\n",
    "sig_eta = 1469.1\n",
    "e_plus = st.norm.rvs(size = N) * sig_e\n",
    "eta_plus = st.norm.rvs(size= N) * sig_eta\n",
    "\n",
    "a_plus = np.zeros(N+1)\n",
    "a_plus[0] = st.norm.rvs(size = 1) * np.sqrt(P_ini) + a_ini\n",
    "for i in range(0, N):\n",
    "    a_plus[i+1] = eta_plus[i] + a_plus[i]\n",
    "\n",
    "y_plus = a_plus[1:] + e_plus"
   ]
  },
  {
   "cell_type": "code",
   "execution_count": null,
   "metadata": {},
   "outputs": [],
   "source": []
  }
 ],
 "metadata": {
  "kernelspec": {
   "display_name": "base",
   "language": "python",
   "name": "python3"
  },
  "language_info": {
   "codemirror_mode": {
    "name": "ipython",
    "version": 3
   },
   "file_extension": ".py",
   "mimetype": "text/x-python",
   "name": "python",
   "nbconvert_exporter": "python",
   "pygments_lexer": "ipython3",
   "version": "3.7.6"
  },
  "orig_nbformat": 4,
  "vscode": {
   "interpreter": {
    "hash": "e967befc533c60f65bccb48500e9ac4f21fdaf99ecc79c58d56e923c565e01a7"
   }
  }
 },
 "nbformat": 4,
 "nbformat_minor": 2
}
